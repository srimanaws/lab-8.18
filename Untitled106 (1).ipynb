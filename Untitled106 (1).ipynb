{
 "cells": [
  {
   "cell_type": "code",
   "execution_count": 1,
   "id": "f6f44fc7-65fd-4311-9df8-a816fc81dcba",
   "metadata": {},
   "outputs": [
    {
     "name": "stdout",
     "output_type": "stream",
     "text": [
      "Testing password: Hello-World-This-Is-A-Test\n",
      "Does it meet the five words requirement? Yes\n",
      "Does it meet the complex password requirements? No\n",
      "\n",
      "Testing password: WeakPass\n",
      "Does it meet the five words requirement? Yes\n",
      "Does it meet the complex password requirements? No\n",
      "\n",
      "Testing password: Str0ngPass!\n",
      "Does it meet the five words requirement? No\n",
      "Does it meet the complex password requirements? Yes\n",
      "\n",
      "Testing password: A-B-C-D-E\n",
      "Does it meet the five words requirement? Yes\n",
      "Does it meet the complex password requirements? No\n",
      "\n",
      "Testing password: Short1!\n",
      "Does it meet the five words requirement? No\n",
      "Does it meet the complex password requirements? No\n",
      "\n"
     ]
    }
   ],
   "source": [
    "#Exercise 8.18 by sriman\n",
    "import re\n",
    "\n",
    "# Function to check the first password format\n",
    "def validate_password_format_1(password):\n",
    "    pattern = r'^(?:(\\w+)[-_., ]?){5,}$'\n",
    "    return bool(re.match(pattern, password))\n",
    "\n",
    "# Function to check the second password format\n",
    "def validate_password_format_2(password):\n",
    "    pattern = r'^(?=.*[a-z])(?=.*[A-Z])(?=.*\\d)(?=.*[!@#$%^&*()<>?])[A-Za-z\\d!@#$%^&*()<>?]{8,}$'\n",
    "    return bool(re.match(pattern, password))\n",
    "\n",
    "# Sample passwords to test\n",
    "passwords_to_test = [\n",
    "    \"Hello-World-This-Is-A-Test\",  # Should match the first requirement\n",
    "    \"WeakPass\",                      # Should not match the second requirement\n",
    "    \"Str0ngPass!\",                  # Should match the second requirement\n",
    "    \"A-B-C-D-E\",                    # Should match the first requirement\n",
    "    \"Short1!\"                       # Should not match the second requirement\n",
    "]\n",
    "\n",
    "# Testing the sample passwords\n",
    "for password in passwords_to_test:\n",
    "    print(f\"Testing password: {password}\")\n",
    "    print(f\"Does it meet the five words requirement? {'Yes' if validate_password_format_1(password) else 'No'}\")\n",
    "    print(f\"Does it meet the complex password requirements? {'Yes' if validate_password_format_2(password) else 'No'}\")\n",
    "    print()\n"
   ]
  },
  {
   "cell_type": "code",
   "execution_count": null,
   "id": "98d59e3c-842b-4c26-a938-cf2b9069ebaf",
   "metadata": {},
   "outputs": [],
   "source": []
  }
 ],
 "metadata": {
  "kernelspec": {
   "display_name": "Python 3 (ipykernel)",
   "language": "python",
   "name": "python3"
  },
  "language_info": {
   "codemirror_mode": {
    "name": "ipython",
    "version": 3
   },
   "file_extension": ".py",
   "mimetype": "text/x-python",
   "name": "python",
   "nbconvert_exporter": "python",
   "pygments_lexer": "ipython3",
   "version": "3.12.4"
  }
 },
 "nbformat": 4,
 "nbformat_minor": 5
}
